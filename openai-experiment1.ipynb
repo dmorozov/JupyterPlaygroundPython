{
 "cells": [
  {
   "cell_type": "markdown",
   "metadata": {},
   "source": [
    "We need configure correct Python environment:\n",
    "To do so, open terminal and type:\n",
    "```sh\n",
    "$ python3 -m venv venv\n",
    "$ source venv/bin/activate (Windows: venv\\Scripts\\activate)\n",
    "$ pip install -r requirements.txt\n",
    "```\n",
    "Then select Jupyter Kernel and point to the newely created environment. Allow to install kernel when prompted."
   ]
  },
  {
   "cell_type": "markdown",
   "metadata": {},
   "source": [
    "# Setup\n",
    "- create a '.env' file\n",
    "- add `OPENAI_API_KEY=\"<your key here>\"`"
   ]
  },
  {
   "cell_type": "code",
   "execution_count": 2,
   "metadata": {},
   "outputs": [
    {
     "name": "stdout",
     "output_type": "stream",
     "text": [
      "APU key TEST\n"
     ]
    }
   ],
   "source": [
    "from dotenv import load_dotenv\n",
    "import os\n",
    "\n",
    "load_dotenv('.env', override=True)\n",
    "\n",
    "SECRET_KEY = os.environ.get(\"OPENAI_API_KEY\")\n",
    "print(f\"APU key {SECRET_KEY}\")"
   ]
  },
  {
   "cell_type": "markdown",
   "metadata": {},
   "source": [
    "# Create AI Client\n",
    "[OpenAI Client Documentation](https://api.python.langchain.com/en/latest/llms/langchain_openai.llms.base.OpenAI.html)"
   ]
  },
  {
   "cell_type": "code",
   "execution_count": 3,
   "metadata": {},
   "outputs": [],
   "source": [
    "from langchain.llms import OpenAI\n",
    "\n",
    "llm = OpenAI(\n",
    "    # model=\"gpt-3.5-turbo-instruct\",\n",
    "    temperature=0.9,\n",
    "    base_url=\"http://192.168.68.71:8000/v1\"\n",
    ")"
   ]
  },
  {
   "cell_type": "markdown",
   "metadata": {},
   "source": [
    "Now prompt LLM:"
   ]
  },
  {
   "cell_type": "code",
   "execution_count": 14,
   "metadata": {},
   "outputs": [
    {
     "name": "stdout",
     "output_type": "stream",
     "text": [
      " with the sole intention"
     ]
    },
    {
     "name": "stdout",
     "output_type": "stream",
     "text": [
      " of creating fun and playful sock designs that make people smile?\n",
      "A great company name should reflect the brand's personality, values, and tone. For a company that creates fun and playful sock designs, here are some suggestions:\n",
      "\n",
      "1. **Sockful of Smiles**: This name conveys the idea of bringing joy and happiness to customers through colorful socks.\n",
      "2. **SoleMates Socks**: A playful take on the phrase \"soulmates\" that suggests the socks will be a perfect match for your feet.\n",
      "3. **Color Crush**: This name captures the fun, vibrant spirit of your sock designs and implies that they'll make you fall in love with color.\n",
      "4. **Heelarious Socks**: Another playful pun that combines \"heel\" (a nod to footwear) with \"hilarious,\" promising socks that will bring laughter and joy.\n",
      "5. **Socktopia**: A whimsical name that evokes a fantastical world of colorful socks, where customers can escape into a fun and playful world.\n",
      "6. **Step Up Socks**: This name suggests that your socks will help people step up their game, whether it's in style or mood, with every wear.\n",
      "7. **Feet First Designs**: A simple yet"
     ]
    }
   ],
   "source": [
    "input_text = \"What would be a good company name for a company that makes colorful socks?\"\n",
    "\n",
    "for chunk in llm.stream(input_text):\n",
    "    print(chunk, end=\"\", flush=True)\n"
   ]
  }
 ],
 "metadata": {
  "kernelspec": {
   "display_name": "venv",
   "language": "python",
   "name": "python3"
  },
  "language_info": {
   "codemirror_mode": {
    "name": "ipython",
    "version": 3
   },
   "file_extension": ".py",
   "mimetype": "text/x-python",
   "name": "python",
   "nbconvert_exporter": "python",
   "pygments_lexer": "ipython3",
   "version": "3.12.1"
  }
 },
 "nbformat": 4,
 "nbformat_minor": 2
}
